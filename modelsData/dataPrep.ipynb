{
 "cells": [
  {
   "cell_type": "markdown",
   "id": "1fb69b51",
   "metadata": {},
   "source": [
    "# User Data Preparation"
   ]
  },
  {
   "cell_type": "code",
   "execution_count": 1,
   "id": "6e86cc93",
   "metadata": {},
   "outputs": [],
   "source": [
    "import random\n",
    "import string\n",
    "def generateRandomUniqueUserName(usernames,base_name):\n",
    "    unique_username = base_name\n",
    "    while unique_username in usernames:\n",
    "        random_suffix = ''.join(random.choices(string.ascii_letters+string.digits,k=3))\n",
    "        unique_username = base_name +random_suffix\n",
    "    usernames.append(unique_username)\n",
    "    return unique_username\n",
    "    "
   ]
  },
  {
   "cell_type": "code",
   "execution_count": 2,
   "id": "aa9ea793",
   "metadata": {},
   "outputs": [],
   "source": [
    "username_list = ['u1',]\n",
    "base_username = 'u2'\n",
    "\n"
   ]
  },
  {
   "cell_type": "code",
   "execution_count": 3,
   "id": "ca4b4318",
   "metadata": {},
   "outputs": [
    {
     "name": "stdout",
     "output_type": "stream",
     "text": [
      "['u1']\n",
      "u2\n",
      "['u1', 'u2']\n"
     ]
    }
   ],
   "source": [
    "print(username_list)\n",
    "name = generateRandomUniqueUserName(username_list,base_username)\n",
    "print(name)\n",
    "print(username_list)"
   ]
  },
  {
   "cell_type": "code",
   "execution_count": 4,
   "id": "25177d2d",
   "metadata": {},
   "outputs": [],
   "source": [
    "def generateUniqueEmail(emails,base_mail):\n",
    "    unique_mail = base_mail\n",
    "    while unique_mail in emails:\n",
    "        random_suffix = ''.join(random.choices(string.ascii_letters+string.digits,k=3))\n",
    "        unique_mail = base_mail+random_suffix\n",
    "    emails.append(unique_mail)\n",
    "    return unique_mail+'@gmail.com'"
   ]
  },
  {
   "cell_type": "code",
   "execution_count": 5,
   "id": "36811fb2",
   "metadata": {},
   "outputs": [],
   "source": [
    "emails = ['users123','name123']\n",
    "base_mail='tush12'"
   ]
  },
  {
   "cell_type": "code",
   "execution_count": 6,
   "id": "613ac9e4",
   "metadata": {},
   "outputs": [
    {
     "name": "stdout",
     "output_type": "stream",
     "text": [
      "['users123', 'name123']\n",
      "tush12@gmail.com\n",
      "['users123', 'name123', 'tush12']\n"
     ]
    }
   ],
   "source": [
    "print(emails)\n",
    "new_mail = generateUniqueEmail(emails,base_mail)\n",
    "print(new_mail)\n",
    "print(emails)"
   ]
  },
  {
   "cell_type": "code",
   "execution_count": 7,
   "id": "087115ba",
   "metadata": {},
   "outputs": [],
   "source": [
    "import random\n",
    "\n",
    "def generateRandom10DigitNumber(numbers):\n",
    "    while True:\n",
    "        random_number = ''.join(random.choices('0123456789', k=10))\n",
    "        if random_number not in numbers:  \n",
    "            numbers.append(random_number)  \n",
    "            return random_number"
   ]
  },
  {
   "cell_type": "code",
   "execution_count": 8,
   "id": "6dacdb35",
   "metadata": {},
   "outputs": [],
   "source": [
    "existing_numbers = ['1234567890', '9876543210']"
   ]
  },
  {
   "cell_type": "code",
   "execution_count": 9,
   "id": "134be600",
   "metadata": {},
   "outputs": [
    {
     "name": "stdout",
     "output_type": "stream",
     "text": [
      "4829322239 ['1234567890', '9876543210', '4829322239']\n"
     ]
    }
   ],
   "source": [
    "new_number = generateRandom10DigitNumber(existing_numbers)\n",
    "print(new_number,existing_numbers)"
   ]
  },
  {
   "cell_type": "code",
   "execution_count": 10,
   "id": "2dd3004a",
   "metadata": {},
   "outputs": [],
   "source": [
    "\n",
    "def generatePAssword():\n",
    "    # Character categories\n",
    "    lowCase = \"abcdefghijklmnopqrstuvxyz\"\n",
    "    upCase = \"ABCDEFGHIJKLMNOPQRSTUVXYZ\"\n",
    "    Numbers = \"0123456789\"\n",
    "    SpecialChar = \"£$&()*+[]@#^-_!?\"\n",
    "    charCategories = [lowCase, upCase, Numbers, SpecialChar]\n",
    "\n",
    "    # Define password length\n",
    "    passLength = 12\n",
    "\n",
    "    # Initialize password\n",
    "    password = \"\"\n",
    "\n",
    "    # Generate password\n",
    "    for _ in range(passLength):\n",
    "        # Randomly select a character category\n",
    "        chooseCharGroup = random.randint(0, len(charCategories) - 1)\n",
    "        # Randomly select a character from the chosen category\n",
    "        charGroup = charCategories[chooseCharGroup]\n",
    "        password += random.choice(charGroup)\n",
    "    return password\n",
    "\n"
   ]
  },
  {
   "cell_type": "code",
   "execution_count": 11,
   "id": "f365f19e",
   "metadata": {},
   "outputs": [
    {
     "name": "stdout",
     "output_type": "stream",
     "text": [
      "k7CGg3?P(2im\n"
     ]
    }
   ],
   "source": [
    "passcode = generatePAssword()\n",
    "print(passcode)"
   ]
  },
  {
   "cell_type": "code",
   "execution_count": 12,
   "id": "67d66402",
   "metadata": {},
   "outputs": [],
   "source": [
    "def generateUsersFile(filePath):\n",
    "    with open(filePath,\"w\") as file:\n",
    "        for i in range(150):\n",
    "            str=\"insert into users (user_id,username,email,phno,password) values (user_seq.NEXTVAL\"\n",
    "            username = generateRandomUniqueUserName(username_list,base_username)\n",
    "            email = generateUniqueEmail(emails,base_mail)\n",
    "            phoneNo = generateRandom10DigitNumber(existing_numbers)\n",
    "            passcode = generatePAssword()\n",
    "            str = str+\",'\"+username +\"','\"+email+\"',\"+phoneNo+\",'\"+ passcode + \"');\\n\"\n",
    "            #print(str)\n",
    "            file.write(str)\n",
    "        file.close()\n",
    "        "
   ]
  },
  {
   "cell_type": "code",
   "execution_count": 13,
   "id": "375af0f2",
   "metadata": {},
   "outputs": [],
   "source": [
    "filePath = 'users.sql'\n",
    "generateUsersFile(filePath)"
   ]
  },
  {
   "cell_type": "markdown",
   "id": "b4b511ef",
   "metadata": {},
   "source": [
    "# Agency Model Data"
   ]
  },
  {
   "cell_type": "code",
   "execution_count": 14,
   "id": "e12fc95a",
   "metadata": {},
   "outputs": [],
   "source": [
    "import getpass"
   ]
  },
  {
   "cell_type": "code",
   "execution_count": 15,
   "id": "5bcb19b7",
   "metadata": {},
   "outputs": [],
   "source": [
    "import cx_Oracle"
   ]
  },
  {
   "cell_type": "code",
   "execution_count": 16,
   "id": "296ed058",
   "metadata": {},
   "outputs": [],
   "source": [
    "pw = getpass.getpass(\"Enter password: \")"
   ]
  },
  {
   "cell_type": "code",
   "execution_count": 17,
   "id": "70ab3e4c",
   "metadata": {},
   "outputs": [
    {
     "name": "stdout",
     "output_type": "stream",
     "text": [
      "Successfully connected to Oracle Database\n"
     ]
    }
   ],
   "source": [
    "\n",
    "connection = cx_Oracle.connect(\n",
    "    user=\"tushar\",\n",
    "    password=pw,\n",
    "    dsn=\"localhost:1521/xe\")\n",
    "\n",
    "print(\"Successfully connected to Oracle Database\")\n",
    "\n",
    "cursor = connection.cursor()\n"
   ]
  },
  {
   "cell_type": "code",
   "execution_count": 19,
   "id": "fbf6914d",
   "metadata": {},
   "outputs": [],
   "source": [
    "str='select user_id from users'\n",
    "cursor.execute(str)\n",
    "row = cursor.fetchall()\n"
   ]
  },
  {
   "cell_type": "code",
   "execution_count": 20,
   "id": "6ccc0d86",
   "metadata": {},
   "outputs": [
    {
     "name": "stdout",
     "output_type": "stream",
     "text": [
      "228\n"
     ]
    }
   ],
   "source": [
    "print(row[1][0])"
   ]
  },
  {
   "cell_type": "code",
   "execution_count": 21,
   "id": "cde2ec0d",
   "metadata": {},
   "outputs": [
    {
     "name": "stdout",
     "output_type": "stream",
     "text": [
      "7\n",
      "[227, 228, 229, 230, 231, 232, 233]\n"
     ]
    }
   ],
   "source": [
    "user_id = []\n",
    "len = 7\n",
    "print(len)\n",
    "for i in range(0,len):\n",
    "    user_id.append(row[i][0])\n",
    "print(user_id)"
   ]
  },
  {
   "cell_type": "code",
   "execution_count": 22,
   "id": "e03a1ee0",
   "metadata": {},
   "outputs": [],
   "source": [
    "def generateAgencyName(agencyName,base_name):\n",
    "    unique_agencyName = base_name\n",
    "    while unique_agencyName in agencyName:\n",
    "        random_suffix = ''.join(random.choices(string.ascii_letters+string.digits,k=3))\n",
    "        unique_agencyName = base_name+random_suffix\n",
    "    agencyName.append(unique_agencyName)\n",
    "    return unique_agencyName"
   ]
  },
  {
   "cell_type": "code",
   "execution_count": 42,
   "id": "c6e930a0",
   "metadata": {},
   "outputs": [],
   "source": [
    "def generateAddress():\n",
    "    random_address = ''.join(random.choices(string.ascii_letters + string.digits, k=10))\n",
    "    return random_address\n"
   ]
  },
  {
   "cell_type": "code",
   "execution_count": 43,
   "id": "d9b174e1",
   "metadata": {},
   "outputs": [
    {
     "name": "stdout",
     "output_type": "stream",
     "text": [
      "E0XNuJ2eFG\n",
      "E0XNuJ2eFG\n"
     ]
    }
   ],
   "source": [
    "print(generateAddress())"
   ]
  },
  {
   "cell_type": "code",
   "execution_count": 47,
   "id": "8398f010",
   "metadata": {},
   "outputs": [],
   "source": [
    "def generateLCSNo(lic_no,base_no):\n",
    "    uniqueLCs= base_no\n",
    "    while uniqueLCs in lic_no:\n",
    "        uniqueLCs = ''.join(random.choices(string.ascii_letters + string.digits, k=5))\n",
    "    lic_no.append(uniqueLCs) \n",
    "    return uniqueLCs"
   ]
  },
  {
   "cell_type": "code",
   "execution_count": 48,
   "id": "da3c710b",
   "metadata": {},
   "outputs": [],
   "source": [
    "lic_no = []\n",
    "base_no = 'a12254'"
   ]
  },
  {
   "cell_type": "code",
   "execution_count": 62,
   "id": "f898e4d9",
   "metadata": {},
   "outputs": [
    {
     "name": "stdout",
     "output_type": "stream",
     "text": [
      "['a12254', 'cYgat', 'ZprN3', '9vlQZ', 'hyfXa', '5KmXV', 'vvnRk', 'SgTss', 'cvl4y', 'flBxS', 'dSLnd', 'Osonu', 'fqnoF']\n"
     ]
    }
   ],
   "source": [
    "print(lic_no)"
   ]
  },
  {
   "cell_type": "code",
   "execution_count": 79,
   "id": "940098ed",
   "metadata": {},
   "outputs": [],
   "source": [
    "def getAgencyEmailAndPhno(userID):\n",
    "    fetchString = f'select email,phno from users where user_id = {userID}'\n",
    "    cursor.execute(fetchString)\n",
    "    row = cursor.fetchall()\n",
    "    print(row)\n",
    "    return row"
   ]
  },
  {
   "cell_type": "code",
   "execution_count": 82,
   "id": "e5a03027",
   "metadata": {},
   "outputs": [
    {
     "name": "stdout",
     "output_type": "stream",
     "text": [
      "[('tush12HZV@gmail.com', '5642936876')]\n",
      "tush12HZV@gmail.com\n"
     ]
    }
   ],
   "source": [
    "x = getAgencyEmailAndPhno(227)\n",
    "print(x[0][0])"
   ]
  },
  {
   "cell_type": "code",
   "execution_count": 85,
   "id": "b55949f0",
   "metadata": {},
   "outputs": [],
   "source": [
    "agencyName = []\n",
    "base_agencyName = 'agency1'"
   ]
  },
  {
   "cell_type": "code",
   "execution_count": 88,
   "id": "91996f84",
   "metadata": {},
   "outputs": [],
   "source": [
    "def generateAgencyFile(filePath,user_id):\n",
    "    with open(filePath,'w') as file:\n",
    "        for i in user_id:\n",
    "            newagencyName = generateAgencyName(agencyName,base_agencyName)\n",
    "            add = generateAddress()\n",
    "            res = getAgencyEmailAndPhno(i)\n",
    "            lcs = generateLCSNo(lic_no,base_no)\n",
    "            agencyEmail = res[0][0]\n",
    "            phno = res[0][1]\n",
    "            row = f\"insert into adoption_agency(agency_id,user_id,agecnyname,address,email,phno,licsence_no) values (agency_seq.nextval,{i},'{newagencyName}','{add}','{agencyEmail}','{phno}','{lcs}');\\n\"\n",
    "            file.write(row)\n",
    "        file.close()\n",
    "            "
   ]
  },
  {
   "cell_type": "code",
   "execution_count": 89,
   "id": "be73b708",
   "metadata": {},
   "outputs": [
    {
     "name": "stdout",
     "output_type": "stream",
     "text": [
      "mih4145RGH\n",
      "[('tush12HZV@gmail.com', '5642936876')]\n",
      "BxqHKeZdNI\n",
      "[('tush12LHr@gmail.com', '2804969989')]\n",
      "14Nht1jxIW\n",
      "[('tush12QSu@gmail.com', '6679991246')]\n",
      "XjwcUnyKkJ\n",
      "[('tush12m5Q@gmail.com', '3485114643')]\n",
      "dJpn6w2PZ0\n",
      "[('tush12R0B@gmail.com', '8551375191')]\n",
      "Vu9GPrI9xT\n",
      "[('tush12zGu@gmail.com', '2695756710')]\n",
      "I8mDdVvTHH\n",
      "[('tush12X1F@gmail.com', '247506505')]\n"
     ]
    }
   ],
   "source": [
    "generateAgencyFile(filePath='agencyData.sql',user_id=user_id)"
   ]
  },
  {
   "cell_type": "markdown",
   "id": "35b0c14b",
   "metadata": {},
   "source": [
    "#  Child Model Data"
   ]
  },
  {
   "cell_type": "code",
   "execution_count": 2,
   "id": "d4ca2cd8",
   "metadata": {},
   "outputs": [],
   "source": [
    "boysUrl = ['https://res.cloudinary.com/dyi0do0cg/image/upload/v1737991611/drg8sgqjaa2pyyhxz0r8.jpg']\n",
    "girllUrl = ['https://res.cloudinary.com/dyi0do0cg/image/upload/v1737991611/mjqjlrpcdnn3rakl3zsy.jpg',\n",
    "            'https://res.cloudinary.com/dyi0do0cg/image/upload/v1737991611/zqtpsswpbbqfktkq3hld.jpg']"
   ]
  },
  {
   "cell_type": "code",
   "execution_count": null,
   "id": "64e39393",
   "metadata": {},
   "outputs": [],
   "source": []
  }
 ],
 "metadata": {
  "kernelspec": {
   "display_name": "base",
   "language": "python",
   "name": "python3"
  },
  "language_info": {
   "codemirror_mode": {
    "name": "ipython",
    "version": 3
   },
   "file_extension": ".py",
   "mimetype": "text/x-python",
   "name": "python",
   "nbconvert_exporter": "python",
   "pygments_lexer": "ipython3",
   "version": "3.12.4"
  }
 },
 "nbformat": 4,
 "nbformat_minor": 5
}
